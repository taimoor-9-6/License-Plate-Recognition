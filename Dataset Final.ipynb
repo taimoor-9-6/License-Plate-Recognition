{
 "cells": [
  {
   "cell_type": "code",
   "execution_count": 1,
   "metadata": {},
   "outputs": [],
   "source": [
    "import cv2\n",
    "import numpy as np\n",
    "import pandas as pd\n",
    "import matplotlib.pyplot as plt\n",
    "from PIL import Image \n",
    "import sys \n",
    "import os\n",
    "import shutil\n",
    "from random import randint"
   ]
  },
  {
   "cell_type": "code",
   "execution_count": 2,
   "metadata": {},
   "outputs": [
    {
     "name": "stderr",
     "output_type": "stream",
     "text": [
      "/home/taimoor/anaconda3/envs/cv/lib/python3.7/site-packages/sklearn/externals/joblib/__init__.py:15: DeprecationWarning: sklearn.externals.joblib is deprecated in 0.21 and will be removed in 0.23. Please import this functionality directly from joblib, which can be installed with: pip install joblib. If this warning is raised when loading pickled models, you may need to re-serialize those models with scikit-learn 0.21+.\n",
      "  warnings.warn(msg, category=DeprecationWarning)\n"
     ]
    }
   ],
   "source": [
    "from sklearn.svm import SVC\n",
    "from sklearn.model_selection import cross_val_score\n",
    "from sklearn.externals import joblib\n",
    "from skimage.io import imread\n",
    "from skimage.filters import threshold_otsu"
   ]
  },
  {
   "cell_type": "code",
   "execution_count": 3,
   "metadata": {},
   "outputs": [],
   "source": [
    "letters = [\n",
    "            '0', '1', '2', '3', '4', '5', '6', '7', '8', '9', 'A', 'B', 'C', 'D',\n",
    "            'E', 'F', 'G', 'H', 'J', 'K', 'L', 'M', 'N', 'P', 'Q', 'R', 'S', 'T',\n",
    "            'U', 'V', 'W', 'X', 'Y', 'Z'\n",
    "        ]"
   ]
  },
  {
   "cell_type": "code",
   "execution_count": 4,
   "metadata": {},
   "outputs": [],
   "source": [
    "training_directory='./Characters'\n",
    "training_directory2='./Dataset'\n",
    "bordertype=cv2.BORDER_CONSTANT\n",
    "value = [randint(255, 255), randint(255, 255), randint(255, 255)]"
   ]
  },
  {
   "cell_type": "code",
   "execution_count": 5,
   "metadata": {},
   "outputs": [],
   "source": [
    "def read_training_data(training_directory):\n",
    "    image_data = []\n",
    "    target_data = []\n",
    "    for each_letter in letters:\n",
    "        for each in range(10):\n",
    "            image_path=os.path.join(training_directory,each_letter + '_' + str(each) + '.jpg')\n",
    "            image_details=cv2.imread(image_path)\n",
    "            gray=cv2.cvtColor(image_details,cv2.COLOR_BGR2GRAY)\n",
    "            top = int(.25 * gray.shape[0])  # shape[0] = rows\n",
    "            bottom = top\n",
    "            left = int(.25 * gray.shape[1])  # shape[1] = cols\n",
    "            right = left\n",
    "            gray=cv2.copyMakeBorder(gray,top,bottom,left,right,bordertype,None,value)\n",
    "            resized=cv2.resize(gray,(70,70),interpolation=cv2.INTER_AREA)\n",
    "            ret,thresh=cv2.threshold(resized,127,255,cv2.THRESH_BINARY)\n",
    "            image_path2=os.path.join(training_directory2,each_letter+'_'+str(each)+'.jpg')\n",
    "            new_image=cv2.imwrite(image_path2,thresh)\n",
    "            flat_bin_image=thresh.reshape(-1)\n",
    "            image_data.append(flat_bin_image)\n",
    "            target_data.append(each_letter)\n",
    "    return(np.array(image_data),np.array(target_data))"
   ]
  },
  {
   "cell_type": "code",
   "execution_count": 6,
   "metadata": {},
   "outputs": [],
   "source": [
    "def cross_validation(model, num_of_fold, train_data, train_label):\n",
    "    # this uses the concept of cross validation to measure the accuracy\n",
    "    # of a model, the num_of_fold determines the type of validation\n",
    "    # e.g if num_of_fold is 4, then we are performing a 4-fold cross validation\n",
    "    # it will divide the dataset into 4 and use 1/4 of it for testing\n",
    "    # and the remaining 3/4 for the training\n",
    "    accuracy_result = cross_val_score(model, train_data, train_label,\n",
    "                                      cv=num_of_fold)\n",
    "    print(\"Cross Validation Result for \", str(num_of_fold), \" -fold\")\n",
    "\n",
    "    print(accuracy_result * 100)"
   ]
  },
  {
   "cell_type": "code",
   "execution_count": 7,
   "metadata": {},
   "outputs": [
    {
     "name": "stdout",
     "output_type": "stream",
     "text": [
      "reading data\n",
      "reading data completed\n"
     ]
    }
   ],
   "source": [
    "print('reading data')\n",
    "training_dataset_dir = './Characters'\n",
    "image_data, target_data = read_training_data(training_dataset_dir)\n",
    "print('reading data completed')"
   ]
  },
  {
   "cell_type": "code",
   "execution_count": 8,
   "metadata": {},
   "outputs": [
    {
     "name": "stdout",
     "output_type": "stream",
     "text": [
      "Cross Validation Result for  4  -fold\n",
      "[93.1372549  87.25490196 91.17647059 97.05882353]\n",
      "training model\n",
      "model trained.saving model..\n",
      "model saved\n"
     ]
    }
   ],
   "source": [
    "svc_model = SVC(kernel='linear', probability=True)\n",
    "\n",
    "cross_validation(svc_model, 4, image_data, target_data)\n",
    "\n",
    "print('training model')\n",
    "\n",
    "# let's train the model with all the input data\n",
    "svc_model.fit(image_data, target_data)\n",
    "\n",
    "import pickle\n",
    "print(\"model trained.saving model..\")\n",
    "filename = './finalized_model.sav'\n",
    "pickle.dump(svc_model, open(filename, 'wb'))\n",
    "print(\"model saved\")\n"
   ]
  },
  {
   "cell_type": "code",
   "execution_count": null,
   "metadata": {},
   "outputs": [],
   "source": []
  },
  {
   "cell_type": "code",
   "execution_count": null,
   "metadata": {},
   "outputs": [],
   "source": []
  }
 ],
 "metadata": {
  "kernelspec": {
   "display_name": "Python 3",
   "language": "python",
   "name": "python3"
  },
  "language_info": {
   "codemirror_mode": {
    "name": "ipython",
    "version": 3
   },
   "file_extension": ".py",
   "mimetype": "text/x-python",
   "name": "python",
   "nbconvert_exporter": "python",
   "pygments_lexer": "ipython3",
   "version": "3.7.3"
  }
 },
 "nbformat": 4,
 "nbformat_minor": 2
}
